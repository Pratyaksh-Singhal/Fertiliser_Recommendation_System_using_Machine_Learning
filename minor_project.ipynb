{
 "cells": [
  {
   "cell_type": "code",
   "execution_count": 57,
   "metadata": {},
   "outputs": [],
   "source": [
    "import numpy as np\n",
    "import pandas as pd\n",
    "from sklearn.metrics import mean_squared_error\n",
    "import matplotlib.pyplot as plt\n",
    "import seaborn as sns\n",
    "%matplotlib inline"
   ]
  },
  {
   "cell_type": "code",
   "execution_count": 58,
   "metadata": {},
   "outputs": [],
   "source": [
    "k11 = pd.read_csv(\"data\\\\Kharif\\\\Kharif11-12.csv\")\n",
    "k12 = pd.read_csv(\"data\\\\Kharif\\\\Kharif12-13.csv\")\n",
    "k13 = pd.read_csv(\"data\\\\Kharif\\\\Kharif13-14.csv\")\n",
    "k14 = pd.read_csv(\"data\\\\Kharif\\\\Kharif14-15.csv\")\n",
    "k15 = pd.read_csv(\"data\\\\Kharif\\\\Kharif15-16.csv\")\n",
    "k16 = pd.read_csv(\"data\\\\Kharif\\\\Kharif16-17.csv\")\n",
    "k17 = pd.read_csv(\"data\\\\Kharif\\\\Kharif17-18.csv\")\n",
    "k18 = pd.read_csv(\"data\\\\Kharif\\\\Kharif18-19.csv\")\n",
    "k19 = pd.read_csv(\"data\\\\Kharif\\\\Kharif19-20.csv\")\n",
    "k20 = pd.read_csv(\"data\\\\Kharif\\\\Kharif20-21.csv\")\n",
    "k21 = pd.read_csv(\"data\\\\Kharif\\\\kharif21-22.csv\")"
   ]
  },
  {
   "cell_type": "code",
   "execution_count": 59,
   "metadata": {},
   "outputs": [],
   "source": [
    "r11 = pd.read_csv(\"data\\\\Rabi\\\\Rabi11-12.csv\")\n",
    "r12 = pd.read_csv(\"data\\\\Rabi\\\\Rabi12-13.csv\")\n",
    "r13 = pd.read_csv(\"data\\\\Rabi\\\\Rabi13-14.csv\")\n",
    "r14 = pd.read_csv(\"data\\\\Rabi\\\\Rabi14-15.csv\")\n",
    "r15 = pd.read_csv(\"data\\\\Rabi\\\\Rabi15-16.csv\")\n",
    "r16 = pd.read_csv(\"data\\\\Rabi\\\\Rabi16-17.csv\")\n",
    "r17 = pd.read_csv(\"data\\\\Rabi\\\\Rabi17-18.csv\")\n",
    "r18 = pd.read_csv(\"data\\\\Rabi\\\\Rabi18-19.csv\")\n",
    "r19 = pd.read_csv(\"data\\\\Rabi\\\\Rabi19-20.csv\")\n",
    "r20 = pd.read_csv(\"data\\\\Rabi\\\\Rabi20-21.csv\")\n",
    "r21 = pd.read_csv(\"data\\\\Rabi\\\\Rabi21-22.csv\")\n"
   ]
  },
  {
   "cell_type": "code",
   "execution_count": 60,
   "metadata": {},
   "outputs": [
    {
     "data": {
      "text/html": [
       "<div>\n",
       "<style scoped>\n",
       "    .dataframe tbody tr th:only-of-type {\n",
       "        vertical-align: middle;\n",
       "    }\n",
       "\n",
       "    .dataframe tbody tr th {\n",
       "        vertical-align: top;\n",
       "    }\n",
       "\n",
       "    .dataframe thead th {\n",
       "        text-align: right;\n",
       "    }\n",
       "</style>\n",
       "<table border=\"1\" class=\"dataframe\">\n",
       "  <thead>\n",
       "    <tr style=\"text-align: right;\">\n",
       "      <th></th>\n",
       "      <th>DISTRICT</th>\n",
       "      <th>NITROGENIUS</th>\n",
       "      <th>PHOSPHETIC</th>\n",
       "      <th>POTASIC</th>\n",
       "      <th>TOTAL</th>\n",
       "      <th>Season</th>\n",
       "    </tr>\n",
       "  </thead>\n",
       "  <tbody>\n",
       "    <tr>\n",
       "      <th>0</th>\n",
       "      <td>AJMER</td>\n",
       "      <td>9921</td>\n",
       "      <td>4267</td>\n",
       "      <td>322</td>\n",
       "      <td>14510</td>\n",
       "      <td>Kharif</td>\n",
       "    </tr>\n",
       "    <tr>\n",
       "      <th>1</th>\n",
       "      <td>ALWAR</td>\n",
       "      <td>33097</td>\n",
       "      <td>12491</td>\n",
       "      <td>117</td>\n",
       "      <td>45705</td>\n",
       "      <td>Kharif</td>\n",
       "    </tr>\n",
       "    <tr>\n",
       "      <th>2</th>\n",
       "      <td>BANSWARA</td>\n",
       "      <td>19371</td>\n",
       "      <td>3337</td>\n",
       "      <td>244</td>\n",
       "      <td>22952</td>\n",
       "      <td>Kharif</td>\n",
       "    </tr>\n",
       "    <tr>\n",
       "      <th>3</th>\n",
       "      <td>BARAN</td>\n",
       "      <td>32303</td>\n",
       "      <td>10359</td>\n",
       "      <td>266</td>\n",
       "      <td>42928</td>\n",
       "      <td>Kharif</td>\n",
       "    </tr>\n",
       "    <tr>\n",
       "      <th>4</th>\n",
       "      <td>BARMER</td>\n",
       "      <td>6594</td>\n",
       "      <td>1159</td>\n",
       "      <td>91</td>\n",
       "      <td>7844</td>\n",
       "      <td>Kharif</td>\n",
       "    </tr>\n",
       "    <tr>\n",
       "      <th>...</th>\n",
       "      <td>...</td>\n",
       "      <td>...</td>\n",
       "      <td>...</td>\n",
       "      <td>...</td>\n",
       "      <td>...</td>\n",
       "      <td>...</td>\n",
       "    </tr>\n",
       "    <tr>\n",
       "      <th>358</th>\n",
       "      <td>S.MADHOPUR</td>\n",
       "      <td>10427</td>\n",
       "      <td>6000</td>\n",
       "      <td>468</td>\n",
       "      <td>16895</td>\n",
       "      <td>Kharif</td>\n",
       "    </tr>\n",
       "    <tr>\n",
       "      <th>359</th>\n",
       "      <td>SIKAR</td>\n",
       "      <td>9792</td>\n",
       "      <td>3258</td>\n",
       "      <td>81</td>\n",
       "      <td>13131</td>\n",
       "      <td>Kharif</td>\n",
       "    </tr>\n",
       "    <tr>\n",
       "      <th>360</th>\n",
       "      <td>SIROHI</td>\n",
       "      <td>4386</td>\n",
       "      <td>1535</td>\n",
       "      <td>247</td>\n",
       "      <td>6168</td>\n",
       "      <td>Kharif</td>\n",
       "    </tr>\n",
       "    <tr>\n",
       "      <th>361</th>\n",
       "      <td>TONK</td>\n",
       "      <td>12006</td>\n",
       "      <td>9826</td>\n",
       "      <td>373</td>\n",
       "      <td>22205</td>\n",
       "      <td>Kharif</td>\n",
       "    </tr>\n",
       "    <tr>\n",
       "      <th>362</th>\n",
       "      <td>UDAIPUR</td>\n",
       "      <td>7018</td>\n",
       "      <td>1764</td>\n",
       "      <td>90</td>\n",
       "      <td>8872</td>\n",
       "      <td>Kharif</td>\n",
       "    </tr>\n",
       "  </tbody>\n",
       "</table>\n",
       "<p>363 rows × 6 columns</p>\n",
       "</div>"
      ],
      "text/plain": [
       "       DISTRICT  NITROGENIUS  PHOSPHETIC  POTASIC  TOTAL  Season\n",
       "0         AJMER         9921        4267      322  14510  Kharif\n",
       "1         ALWAR        33097       12491      117  45705  Kharif\n",
       "2      BANSWARA        19371        3337      244  22952  Kharif\n",
       "3         BARAN        32303       10359      266  42928  Kharif\n",
       "4        BARMER         6594        1159       91   7844  Kharif\n",
       "..          ...          ...         ...      ...    ...     ...\n",
       "358  S.MADHOPUR        10427        6000      468  16895  Kharif\n",
       "359       SIKAR         9792        3258       81  13131  Kharif\n",
       "360      SIROHI         4386        1535      247   6168  Kharif\n",
       "361        TONK        12006        9826      373  22205  Kharif\n",
       "362     UDAIPUR         7018        1764       90   8872  Kharif\n",
       "\n",
       "[363 rows x 6 columns]"
      ]
     },
     "execution_count": 60,
     "metadata": {},
     "output_type": "execute_result"
    }
   ],
   "source": [
    "#kharif\n",
    "static_value = 'Kharif'\n",
    "frames = [k11, k12, k13, k14, k15, k16, k17, k18, k19, k20, k21]\n",
    "df = pd.concat(frames, ignore_index=True)\n",
    "df['Season'] = static_value\n",
    "df"
   ]
  },
  {
   "cell_type": "code",
   "execution_count": 61,
   "metadata": {},
   "outputs": [
    {
     "data": {
      "text/html": [
       "<div>\n",
       "<style scoped>\n",
       "    .dataframe tbody tr th:only-of-type {\n",
       "        vertical-align: middle;\n",
       "    }\n",
       "\n",
       "    .dataframe tbody tr th {\n",
       "        vertical-align: top;\n",
       "    }\n",
       "\n",
       "    .dataframe thead th {\n",
       "        text-align: right;\n",
       "    }\n",
       "</style>\n",
       "<table border=\"1\" class=\"dataframe\">\n",
       "  <thead>\n",
       "    <tr style=\"text-align: right;\">\n",
       "      <th></th>\n",
       "      <th>DISTRICT</th>\n",
       "      <th>NITROGENIUS</th>\n",
       "      <th>PHOSPHETIC</th>\n",
       "      <th>POTASIC</th>\n",
       "      <th>TOTAL</th>\n",
       "      <th>Season</th>\n",
       "    </tr>\n",
       "  </thead>\n",
       "  <tbody>\n",
       "    <tr>\n",
       "      <th>0</th>\n",
       "      <td>AJMER</td>\n",
       "      <td>9921</td>\n",
       "      <td>4267</td>\n",
       "      <td>322</td>\n",
       "      <td>14510</td>\n",
       "      <td>Kharif</td>\n",
       "    </tr>\n",
       "    <tr>\n",
       "      <th>1</th>\n",
       "      <td>AJMER</td>\n",
       "      <td>5473</td>\n",
       "      <td>2890</td>\n",
       "      <td>39</td>\n",
       "      <td>8402</td>\n",
       "      <td>Kharif</td>\n",
       "    </tr>\n",
       "  </tbody>\n",
       "</table>\n",
       "</div>"
      ],
      "text/plain": [
       "  DISTRICT  NITROGENIUS  PHOSPHETIC  POTASIC  TOTAL  Season\n",
       "0    AJMER         9921        4267      322  14510  Kharif\n",
       "1    AJMER         5473        2890       39   8402  Kharif"
      ]
     },
     "execution_count": 61,
     "metadata": {},
     "output_type": "execute_result"
    }
   ],
   "source": [
    "\n",
    "sorted_df = df.sort_values(by='DISTRICT',ascending=True)\n",
    "sorted_df = sorted_df.reset_index(drop=True)\n",
    "sorted_df.head(2)"
   ]
  },
  {
   "cell_type": "code",
   "execution_count": 62,
   "metadata": {},
   "outputs": [
    {
     "data": {
      "text/html": [
       "<div>\n",
       "<style scoped>\n",
       "    .dataframe tbody tr th:only-of-type {\n",
       "        vertical-align: middle;\n",
       "    }\n",
       "\n",
       "    .dataframe tbody tr th {\n",
       "        vertical-align: top;\n",
       "    }\n",
       "\n",
       "    .dataframe thead th {\n",
       "        text-align: right;\n",
       "    }\n",
       "</style>\n",
       "<table border=\"1\" class=\"dataframe\">\n",
       "  <thead>\n",
       "    <tr style=\"text-align: right;\">\n",
       "      <th></th>\n",
       "      <th>DISTRICT</th>\n",
       "      <th>NITROGENIUS</th>\n",
       "      <th>PHOSPHETIC</th>\n",
       "      <th>POTASIC</th>\n",
       "      <th>TOTAL</th>\n",
       "      <th>Season</th>\n",
       "    </tr>\n",
       "  </thead>\n",
       "  <tbody>\n",
       "    <tr>\n",
       "      <th>0</th>\n",
       "      <td>AJMER</td>\n",
       "      <td>5856</td>\n",
       "      <td>3435</td>\n",
       "      <td>95</td>\n",
       "      <td>9387</td>\n",
       "      <td>Rabi</td>\n",
       "    </tr>\n",
       "    <tr>\n",
       "      <th>1</th>\n",
       "      <td>ALWAR</td>\n",
       "      <td>25396</td>\n",
       "      <td>9511</td>\n",
       "      <td>741</td>\n",
       "      <td>35649</td>\n",
       "      <td>Rabi</td>\n",
       "    </tr>\n",
       "    <tr>\n",
       "      <th>2</th>\n",
       "      <td>BANSWARA</td>\n",
       "      <td>16113</td>\n",
       "      <td>3241</td>\n",
       "      <td>142</td>\n",
       "      <td>19496</td>\n",
       "      <td>Rabi</td>\n",
       "    </tr>\n",
       "    <tr>\n",
       "      <th>3</th>\n",
       "      <td>BARAN</td>\n",
       "      <td>31524</td>\n",
       "      <td>14189</td>\n",
       "      <td>905</td>\n",
       "      <td>46618</td>\n",
       "      <td>Rabi</td>\n",
       "    </tr>\n",
       "    <tr>\n",
       "      <th>4</th>\n",
       "      <td>BARMER</td>\n",
       "      <td>7214</td>\n",
       "      <td>1585</td>\n",
       "      <td>86</td>\n",
       "      <td>8885</td>\n",
       "      <td>Rabi</td>\n",
       "    </tr>\n",
       "    <tr>\n",
       "      <th>...</th>\n",
       "      <td>...</td>\n",
       "      <td>...</td>\n",
       "      <td>...</td>\n",
       "      <td>...</td>\n",
       "      <td>...</td>\n",
       "      <td>...</td>\n",
       "    </tr>\n",
       "    <tr>\n",
       "      <th>358</th>\n",
       "      <td>S.MADHOPUR</td>\n",
       "      <td>21006</td>\n",
       "      <td>5023</td>\n",
       "      <td>132</td>\n",
       "      <td>26161</td>\n",
       "      <td>Rabi</td>\n",
       "    </tr>\n",
       "    <tr>\n",
       "      <th>359</th>\n",
       "      <td>SIKAR</td>\n",
       "      <td>14392</td>\n",
       "      <td>4863</td>\n",
       "      <td>205</td>\n",
       "      <td>19460</td>\n",
       "      <td>Rabi</td>\n",
       "    </tr>\n",
       "    <tr>\n",
       "      <th>360</th>\n",
       "      <td>SIROHI</td>\n",
       "      <td>7801</td>\n",
       "      <td>1341</td>\n",
       "      <td>183</td>\n",
       "      <td>9325</td>\n",
       "      <td>Rabi</td>\n",
       "    </tr>\n",
       "    <tr>\n",
       "      <th>361</th>\n",
       "      <td>TONK</td>\n",
       "      <td>19738</td>\n",
       "      <td>6770</td>\n",
       "      <td>353</td>\n",
       "      <td>26861</td>\n",
       "      <td>Rabi</td>\n",
       "    </tr>\n",
       "    <tr>\n",
       "      <th>362</th>\n",
       "      <td>UDAIPUR</td>\n",
       "      <td>12360</td>\n",
       "      <td>2580</td>\n",
       "      <td>137</td>\n",
       "      <td>15077</td>\n",
       "      <td>Rabi</td>\n",
       "    </tr>\n",
       "  </tbody>\n",
       "</table>\n",
       "<p>363 rows × 6 columns</p>\n",
       "</div>"
      ],
      "text/plain": [
       "       DISTRICT  NITROGENIUS  PHOSPHETIC  POTASIC  TOTAL Season\n",
       "0         AJMER         5856        3435       95   9387   Rabi\n",
       "1         ALWAR        25396        9511      741  35649   Rabi\n",
       "2      BANSWARA        16113        3241      142  19496   Rabi\n",
       "3         BARAN        31524       14189      905  46618   Rabi\n",
       "4        BARMER         7214        1585       86   8885   Rabi\n",
       "..          ...          ...         ...      ...    ...    ...\n",
       "358  S.MADHOPUR        21006        5023      132  26161   Rabi\n",
       "359       SIKAR        14392        4863      205  19460   Rabi\n",
       "360      SIROHI         7801        1341      183   9325   Rabi\n",
       "361        TONK        19738        6770      353  26861   Rabi\n",
       "362     UDAIPUR        12360        2580      137  15077   Rabi\n",
       "\n",
       "[363 rows x 6 columns]"
      ]
     },
     "execution_count": 62,
     "metadata": {},
     "output_type": "execute_result"
    }
   ],
   "source": [
    "#Rabi\n",
    "static_value2 = 'Rabi'\n",
    "frames2 = [r11, r12, r13, r14, r15, r16, r17, r18, r19, r20, r21]\n",
    "df1 = pd.concat(frames2, ignore_index=True)\n",
    "df1['Season'] = static_value2\n",
    "df1"
   ]
  },
  {
   "cell_type": "code",
   "execution_count": 63,
   "metadata": {},
   "outputs": [
    {
     "data": {
      "text/html": [
       "<div>\n",
       "<style scoped>\n",
       "    .dataframe tbody tr th:only-of-type {\n",
       "        vertical-align: middle;\n",
       "    }\n",
       "\n",
       "    .dataframe tbody tr th {\n",
       "        vertical-align: top;\n",
       "    }\n",
       "\n",
       "    .dataframe thead th {\n",
       "        text-align: right;\n",
       "    }\n",
       "</style>\n",
       "<table border=\"1\" class=\"dataframe\">\n",
       "  <thead>\n",
       "    <tr style=\"text-align: right;\">\n",
       "      <th></th>\n",
       "      <th>DISTRICT</th>\n",
       "      <th>NITROGENIUS</th>\n",
       "      <th>PHOSPHETIC</th>\n",
       "      <th>POTASIC</th>\n",
       "      <th>TOTAL</th>\n",
       "      <th>Season</th>\n",
       "    </tr>\n",
       "  </thead>\n",
       "  <tbody>\n",
       "    <tr>\n",
       "      <th>0</th>\n",
       "      <td>AJMER</td>\n",
       "      <td>5856</td>\n",
       "      <td>3435</td>\n",
       "      <td>95</td>\n",
       "      <td>9387</td>\n",
       "      <td>Rabi</td>\n",
       "    </tr>\n",
       "    <tr>\n",
       "      <th>1</th>\n",
       "      <td>AJMER</td>\n",
       "      <td>8088</td>\n",
       "      <td>3474</td>\n",
       "      <td>10</td>\n",
       "      <td>11572</td>\n",
       "      <td>Rabi</td>\n",
       "    </tr>\n",
       "    <tr>\n",
       "      <th>2</th>\n",
       "      <td>AJMER</td>\n",
       "      <td>7754</td>\n",
       "      <td>3311</td>\n",
       "      <td>46</td>\n",
       "      <td>11111</td>\n",
       "      <td>Rabi</td>\n",
       "    </tr>\n",
       "    <tr>\n",
       "      <th>3</th>\n",
       "      <td>AJMER</td>\n",
       "      <td>10580</td>\n",
       "      <td>2991</td>\n",
       "      <td>17</td>\n",
       "      <td>13588</td>\n",
       "      <td>Rabi</td>\n",
       "    </tr>\n",
       "    <tr>\n",
       "      <th>4</th>\n",
       "      <td>AJMER</td>\n",
       "      <td>13756</td>\n",
       "      <td>3709</td>\n",
       "      <td>301</td>\n",
       "      <td>17766</td>\n",
       "      <td>Rabi</td>\n",
       "    </tr>\n",
       "    <tr>\n",
       "      <th>...</th>\n",
       "      <td>...</td>\n",
       "      <td>...</td>\n",
       "      <td>...</td>\n",
       "      <td>...</td>\n",
       "      <td>...</td>\n",
       "      <td>...</td>\n",
       "    </tr>\n",
       "    <tr>\n",
       "      <th>358</th>\n",
       "      <td>UDAIPUR</td>\n",
       "      <td>12086</td>\n",
       "      <td>1667</td>\n",
       "      <td>747</td>\n",
       "      <td>14500</td>\n",
       "      <td>Rabi</td>\n",
       "    </tr>\n",
       "    <tr>\n",
       "      <th>359</th>\n",
       "      <td>UDAIPUR</td>\n",
       "      <td>12922</td>\n",
       "      <td>3582</td>\n",
       "      <td>409</td>\n",
       "      <td>16914</td>\n",
       "      <td>Rabi</td>\n",
       "    </tr>\n",
       "    <tr>\n",
       "      <th>360</th>\n",
       "      <td>UDAIPUR</td>\n",
       "      <td>20802</td>\n",
       "      <td>4890</td>\n",
       "      <td>723</td>\n",
       "      <td>26415</td>\n",
       "      <td>Rabi</td>\n",
       "    </tr>\n",
       "    <tr>\n",
       "      <th>361</th>\n",
       "      <td>UDAIPUR</td>\n",
       "      <td>12366</td>\n",
       "      <td>4077</td>\n",
       "      <td>134</td>\n",
       "      <td>16577</td>\n",
       "      <td>Rabi</td>\n",
       "    </tr>\n",
       "    <tr>\n",
       "      <th>362</th>\n",
       "      <td>UDAIPUR</td>\n",
       "      <td>12360</td>\n",
       "      <td>2580</td>\n",
       "      <td>137</td>\n",
       "      <td>15077</td>\n",
       "      <td>Rabi</td>\n",
       "    </tr>\n",
       "  </tbody>\n",
       "</table>\n",
       "<p>363 rows × 6 columns</p>\n",
       "</div>"
      ],
      "text/plain": [
       "    DISTRICT  NITROGENIUS  PHOSPHETIC  POTASIC  TOTAL Season\n",
       "0      AJMER         5856        3435       95   9387   Rabi\n",
       "1      AJMER         8088        3474       10  11572   Rabi\n",
       "2      AJMER         7754        3311       46  11111   Rabi\n",
       "3      AJMER        10580        2991       17  13588   Rabi\n",
       "4      AJMER        13756        3709      301  17766   Rabi\n",
       "..       ...          ...         ...      ...    ...    ...\n",
       "358  UDAIPUR        12086        1667      747  14500   Rabi\n",
       "359  UDAIPUR        12922        3582      409  16914   Rabi\n",
       "360  UDAIPUR        20802        4890      723  26415   Rabi\n",
       "361  UDAIPUR        12366        4077      134  16577   Rabi\n",
       "362  UDAIPUR        12360        2580      137  15077   Rabi\n",
       "\n",
       "[363 rows x 6 columns]"
      ]
     },
     "execution_count": 63,
     "metadata": {},
     "output_type": "execute_result"
    }
   ],
   "source": [
    "sorted_df1 = df1.sort_values(by='DISTRICT',ascending=True)\n",
    "sorted_df1 = sorted_df1.reset_index(drop=True)\n",
    "sorted_df1"
   ]
  },
  {
   "cell_type": "code",
   "execution_count": 64,
   "metadata": {},
   "outputs": [
    {
     "data": {
      "text/html": [
       "<div>\n",
       "<style scoped>\n",
       "    .dataframe tbody tr th:only-of-type {\n",
       "        vertical-align: middle;\n",
       "    }\n",
       "\n",
       "    .dataframe tbody tr th {\n",
       "        vertical-align: top;\n",
       "    }\n",
       "\n",
       "    .dataframe thead th {\n",
       "        text-align: right;\n",
       "    }\n",
       "</style>\n",
       "<table border=\"1\" class=\"dataframe\">\n",
       "  <thead>\n",
       "    <tr style=\"text-align: right;\">\n",
       "      <th></th>\n",
       "      <th>DISTRICT</th>\n",
       "      <th>NITROGENIUS</th>\n",
       "      <th>PHOSPHETIC</th>\n",
       "      <th>POTASIC</th>\n",
       "      <th>TOTAL</th>\n",
       "      <th>Season</th>\n",
       "    </tr>\n",
       "  </thead>\n",
       "  <tbody>\n",
       "    <tr>\n",
       "      <th>0</th>\n",
       "      <td>AJMER</td>\n",
       "      <td>9921</td>\n",
       "      <td>4267</td>\n",
       "      <td>322</td>\n",
       "      <td>14510</td>\n",
       "      <td>Kharif</td>\n",
       "    </tr>\n",
       "    <tr>\n",
       "      <th>1</th>\n",
       "      <td>AJMER</td>\n",
       "      <td>5473</td>\n",
       "      <td>2890</td>\n",
       "      <td>39</td>\n",
       "      <td>8402</td>\n",
       "      <td>Kharif</td>\n",
       "    </tr>\n",
       "    <tr>\n",
       "      <th>2</th>\n",
       "      <td>AJMER</td>\n",
       "      <td>8668</td>\n",
       "      <td>6979</td>\n",
       "      <td>158</td>\n",
       "      <td>15805</td>\n",
       "      <td>Kharif</td>\n",
       "    </tr>\n",
       "    <tr>\n",
       "      <th>3</th>\n",
       "      <td>AJMER</td>\n",
       "      <td>5080</td>\n",
       "      <td>3657</td>\n",
       "      <td>84</td>\n",
       "      <td>8821</td>\n",
       "      <td>Kharif</td>\n",
       "    </tr>\n",
       "    <tr>\n",
       "      <th>4</th>\n",
       "      <td>AJMER</td>\n",
       "      <td>5931</td>\n",
       "      <td>6072</td>\n",
       "      <td>289</td>\n",
       "      <td>12292</td>\n",
       "      <td>Kharif</td>\n",
       "    </tr>\n",
       "    <tr>\n",
       "      <th>...</th>\n",
       "      <td>...</td>\n",
       "      <td>...</td>\n",
       "      <td>...</td>\n",
       "      <td>...</td>\n",
       "      <td>...</td>\n",
       "      <td>...</td>\n",
       "    </tr>\n",
       "    <tr>\n",
       "      <th>721</th>\n",
       "      <td>UDAIPUR</td>\n",
       "      <td>12086</td>\n",
       "      <td>1667</td>\n",
       "      <td>747</td>\n",
       "      <td>14500</td>\n",
       "      <td>Rabi</td>\n",
       "    </tr>\n",
       "    <tr>\n",
       "      <th>722</th>\n",
       "      <td>UDAIPUR</td>\n",
       "      <td>12922</td>\n",
       "      <td>3582</td>\n",
       "      <td>409</td>\n",
       "      <td>16914</td>\n",
       "      <td>Rabi</td>\n",
       "    </tr>\n",
       "    <tr>\n",
       "      <th>723</th>\n",
       "      <td>UDAIPUR</td>\n",
       "      <td>20802</td>\n",
       "      <td>4890</td>\n",
       "      <td>723</td>\n",
       "      <td>26415</td>\n",
       "      <td>Rabi</td>\n",
       "    </tr>\n",
       "    <tr>\n",
       "      <th>724</th>\n",
       "      <td>UDAIPUR</td>\n",
       "      <td>12366</td>\n",
       "      <td>4077</td>\n",
       "      <td>134</td>\n",
       "      <td>16577</td>\n",
       "      <td>Rabi</td>\n",
       "    </tr>\n",
       "    <tr>\n",
       "      <th>725</th>\n",
       "      <td>UDAIPUR</td>\n",
       "      <td>12360</td>\n",
       "      <td>2580</td>\n",
       "      <td>137</td>\n",
       "      <td>15077</td>\n",
       "      <td>Rabi</td>\n",
       "    </tr>\n",
       "  </tbody>\n",
       "</table>\n",
       "<p>726 rows × 6 columns</p>\n",
       "</div>"
      ],
      "text/plain": [
       "    DISTRICT  NITROGENIUS  PHOSPHETIC  POTASIC  TOTAL  Season\n",
       "0      AJMER         9921        4267      322  14510  Kharif\n",
       "1      AJMER         5473        2890       39   8402  Kharif\n",
       "2      AJMER         8668        6979      158  15805  Kharif\n",
       "3      AJMER         5080        3657       84   8821  Kharif\n",
       "4      AJMER         5931        6072      289  12292  Kharif\n",
       "..       ...          ...         ...      ...    ...     ...\n",
       "721  UDAIPUR        12086        1667      747  14500    Rabi\n",
       "722  UDAIPUR        12922        3582      409  16914    Rabi\n",
       "723  UDAIPUR        20802        4890      723  26415    Rabi\n",
       "724  UDAIPUR        12366        4077      134  16577    Rabi\n",
       "725  UDAIPUR        12360        2580      137  15077    Rabi\n",
       "\n",
       "[726 rows x 6 columns]"
      ]
     },
     "execution_count": 64,
     "metadata": {},
     "output_type": "execute_result"
    }
   ],
   "source": [
    "frames3 = [sorted_df,sorted_df1]\n",
    "df_final = pd.concat(frames3, ignore_index=True)\n",
    "df_final"
   ]
  },
  {
   "cell_type": "code",
   "execution_count": 65,
   "metadata": {},
   "outputs": [
    {
     "data": {
      "text/plain": [
       "<seaborn.axisgrid.PairGrid at 0x1aca2964a00>"
      ]
     },
     "execution_count": 65,
     "metadata": {},
     "output_type": "execute_result"
    },
    {
     "data": {
      "image/png": "[encoded data removed]",
      "text/plain": [
       "<Figure size 720x720 with 20 Axes>"
      ]
     },
     "metadata": {
      "needs_background": "light"
     },
     "output_type": "display_data"
    }
   ],
   "source": [
    "sns.pairplot(sorted_df1)"
   ]
  },
  {
   "cell_type": "code",
   "execution_count": 66,
   "metadata": {},
   "outputs": [
    {
     "name": "stderr",
     "output_type": "stream",
     "text": [
      "C:\\Users\\Pratyaksh singhal\\AppData\\Local\\Temp\\ipykernel_8308\\875726922.py:1: FutureWarning: The default value of numeric_only in DataFrame.corr is deprecated. In a future version, it will default to False. Select only valid columns or specify the value of numeric_only to silence this warning.\n",
      "  sns.heatmap(sorted_df1.corr(),annot=True)\n"
     ]
    },
    {
     "data": {
      "text/plain": [
       "<AxesSubplot: >"
      ]
     },
     "execution_count": 66,
     "metadata": {},
     "output_type": "execute_result"
    },
    {
     "data": {
      "image/png": "[encoded data removed]",
      "text/plain": [
       "<Figure size 432x288 with 2 Axes>"
      ]
     },
     "metadata": {
      "needs_background": "light"
     },
     "output_type": "display_data"
    }
   ],
   "source": [
    "sns.heatmap(sorted_df1.corr(),annot=True)"
   ]
  },
  {
   "cell_type": "code",
   "execution_count": 67,
   "metadata": {},
   "outputs": [
    {
     "name": "stderr",
     "output_type": "stream",
     "text": [
      "C:\\Users\\Pratyaksh singhal\\AppData\\Local\\Temp\\ipykernel_8308\\782435384.py:1: FutureWarning: The default value of numeric_only in DataFrame.corr is deprecated. In a future version, it will default to False. Select only valid columns or specify the value of numeric_only to silence this warning.\n",
      "  sns.heatmap(sorted_df.corr(),annot=True)\n"
     ]
    },
    {
     "data": {
      "text/plain": [
       "<AxesSubplot: >"
      ]
     },
     "execution_count": 67,
     "metadata": {},
     "output_type": "execute_result"
    },
    {
     "data": {
      "image/png": "[encoded data removed]",
      "text/plain": [
       "<Figure size 432x288 with 2 Axes>"
      ]
     },
     "metadata": {
      "needs_background": "light"
     },
     "output_type": "display_data"
    }
   ],
   "source": [
    "sns.heatmap(sorted_df.corr(),annot=True)"
   ]
  },
  {
   "cell_type": "code",
   "execution_count": 68,
   "metadata": {},
   "outputs": [],
   "source": [
    "district_means = df_final.groupby('DISTRICT').agg({'NITROGENIUS': 'mean', 'PHOSPHETIC': 'mean', 'POTASIC': 'mean'}).reset_index()\n",
    "district_means.columns = ['DISTRICT', 'Mean_Nitrogen', 'Mean_Phosphorus', 'Mean_Potash']"
   ]
  },
  {
   "cell_type": "code",
   "execution_count": 69,
   "metadata": {},
   "outputs": [],
   "source": [
    "data_encoded = pd.merge(df_final, district_means, on='DISTRICT', how='left')\n"
   ]
  },
  {
   "cell_type": "code",
   "execution_count": 70,
   "metadata": {},
   "outputs": [],
   "source": [
    "data_encoded = pd.get_dummies(df_final, columns=['Season'])"
   ]
  },
  {
   "cell_type": "code",
   "execution_count": 80,
   "metadata": {},
   "outputs": [
    {
     "data": {
      "text/html": [
       "<div>\n",
       "<style scoped>\n",
       "    .dataframe tbody tr th:only-of-type {\n",
       "        vertical-align: middle;\n",
       "    }\n",
       "\n",
       "    .dataframe tbody tr th {\n",
       "        vertical-align: top;\n",
       "    }\n",
       "\n",
       "    .dataframe thead th {\n",
       "        text-align: right;\n",
       "    }\n",
       "</style>\n",
       "<table border=\"1\" class=\"dataframe\">\n",
       "  <thead>\n",
       "    <tr style=\"text-align: right;\">\n",
       "      <th></th>\n",
       "      <th>Season_Kharif</th>\n",
       "      <th>Season_Rabi</th>\n",
       "    </tr>\n",
       "  </thead>\n",
       "  <tbody>\n",
       "    <tr>\n",
       "      <th>0</th>\n",
       "      <td>1</td>\n",
       "      <td>0</td>\n",
       "    </tr>\n",
       "    <tr>\n",
       "      <th>1</th>\n",
       "      <td>1</td>\n",
       "      <td>0</td>\n",
       "    </tr>\n",
       "    <tr>\n",
       "      <th>2</th>\n",
       "      <td>1</td>\n",
       "      <td>0</td>\n",
       "    </tr>\n",
       "    <tr>\n",
       "      <th>3</th>\n",
       "      <td>1</td>\n",
       "      <td>0</td>\n",
       "    </tr>\n",
       "    <tr>\n",
       "      <th>4</th>\n",
       "      <td>1</td>\n",
       "      <td>0</td>\n",
       "    </tr>\n",
       "  </tbody>\n",
       "</table>\n",
       "</div>"
      ],
      "text/plain": [
       "   Season_Kharif  Season_Rabi\n",
       "0              1            0\n",
       "1              1            0\n",
       "2              1            0\n",
       "3              1            0\n",
       "4              1            0"
      ]
     },
     "execution_count": 80,
     "metadata": {},
     "output_type": "execute_result"
    }
   ],
   "source": [
    "\n",
    "X = data_encoded.drop(['NITROGENIUS', 'PHOSPHETIC', 'POTASIC'], axis=1)\n",
    "y_nitrogen = data_encoded['NITROGENIUS']\n",
    "y_phosphorus = data_encoded['PHOSPHETIC']\n",
    "y_potash = data_encoded['POTASIC']\n",
    "X.head(5)"
   ]
  },
  {
   "cell_type": "code",
   "execution_count": 81,
   "metadata": {},
   "outputs": [],
   "source": [
    "from sklearn.model_selection import train_test_split\n",
    "X_train, X_test, y_n_train, y_n_test, y_p_train, y_p_test, y_k_train, y_k_test = train_test_split(X, y_nitrogen, y_phosphorus, y_potash, test_size=0.2, random_state=42)"
   ]
  },
  {
   "cell_type": "code",
   "execution_count": 84,
   "metadata": {},
   "outputs": [
    {
     "data": {
      "text/html": [
       "<style>#sk-container-id-3 {color: black;background-color: white;}#sk-container-id-3 pre{padding: 0;}#sk-container-id-3 div.sk-toggleable {background-color: white;}#sk-container-id-3 label.sk-toggleable__label {cursor: pointer;display: block;width: 100%;margin-bottom: 0;padding: 0.3em;box-sizing: border-box;text-align: center;}#sk-container-id-3 label.sk-toggleable__label-arrow:before {content: \"▸\";float: left;margin-right: 0.25em;color: #696969;}#sk-container-id-3 label.sk-toggleable__label-arrow:hover:before {color: black;}#sk-container-id-3 div.sk-estimator:hover label.sk-toggleable__label-arrow:before {color: black;}#sk-container-id-3 div.sk-toggleable__content {max-height: 0;max-width: 0;overflow: hidden;text-align: left;background-color: #f0f8ff;}#sk-container-id-3 div.sk-toggleable__content pre {margin: 0.2em;color: black;border-radius: 0.25em;background-color: #f0f8ff;}#sk-container-id-3 input.sk-toggleable__control:checked~div.sk-toggleable__content {max-height: 200px;max-width: 100%;overflow: auto;}#sk-container-id-3 input.sk-toggleable__control:checked~label.sk-toggleable__label-arrow:before {content: \"▾\";}#sk-container-id-3 div.sk-estimator input.sk-toggleable__control:checked~label.sk-toggleable__label {background-color: #d4ebff;}#sk-container-id-3 div.sk-label input.sk-toggleable__control:checked~label.sk-toggleable__label {background-color: #d4ebff;}#sk-container-id-3 input.sk-hidden--visually {border: 0;clip: rect(1px 1px 1px 1px);clip: rect(1px, 1px, 1px, 1px);height: 1px;margin: -1px;overflow: hidden;padding: 0;position: absolute;width: 1px;}#sk-container-id-3 div.sk-estimator {font-family: monospace;background-color: #f0f8ff;border: 1px dotted black;border-radius: 0.25em;box-sizing: border-box;margin-bottom: 0.5em;}#sk-container-id-3 div.sk-estimator:hover {background-color: #d4ebff;}#sk-container-id-3 div.sk-parallel-item::after {content: \"\";width: 100%;border-bottom: 1px solid gray;flex-grow: 1;}#sk-container-id-3 div.sk-label:hover label.sk-toggleable__label {background-color: #d4ebff;}#sk-container-id-3 div.sk-serial::before {content: \"\";position: absolute;border-left: 1px solid gray;box-sizing: border-box;top: 0;bottom: 0;left: 50%;z-index: 0;}#sk-container-id-3 div.sk-serial {display: flex;flex-direction: column;align-items: center;background-color: white;padding-right: 0.2em;padding-left: 0.2em;position: relative;}#sk-container-id-3 div.sk-item {position: relative;z-index: 1;}#sk-container-id-3 div.sk-parallel {display: flex;align-items: stretch;justify-content: center;background-color: white;position: relative;}#sk-container-id-3 div.sk-item::before, #sk-container-id-3 div.sk-parallel-item::before {content: \"\";position: absolute;border-left: 1px solid gray;box-sizing: border-box;top: 0;bottom: 0;left: 50%;z-index: -1;}#sk-container-id-3 div.sk-parallel-item {display: flex;flex-direction: column;z-index: 1;position: relative;background-color: white;}#sk-container-id-3 div.sk-parallel-item:first-child::after {align-self: flex-end;width: 50%;}#sk-container-id-3 div.sk-parallel-item:last-child::after {align-self: flex-start;width: 50%;}#sk-container-id-3 div.sk-parallel-item:only-child::after {width: 0;}#sk-container-id-3 div.sk-dashed-wrapped {border: 1px dashed gray;margin: 0 0.4em 0.5em 0.4em;box-sizing: border-box;padding-bottom: 0.4em;background-color: white;}#sk-container-id-3 div.sk-label label {font-family: monospace;font-weight: bold;display: inline-block;line-height: 1.2em;}#sk-container-id-3 div.sk-label-container {text-align: center;}#sk-container-id-3 div.sk-container {/* jupyter's `normalize.less` sets `[hidden] { display: none; }` but bootstrap.min.css set `[hidden] { display: none !important; }` so we also need the `!important` here to be able to override the default hidden behavior on the sphinx rendered scikit-learn.org. See: https://github.com/scikit-learn/scikit-learn/issues/21755 */display: inline-block !important;position: relative;}#sk-container-id-3 div.sk-text-repr-fallback {display: none;}</style><div id=\"sk-container-id-3\" class=\"sk-top-container\"><div class=\"sk-text-repr-fallback\"><pre>RandomForestRegressor()</pre><b>In a Jupyter environment, please rerun this cell to show the HTML representation or trust the notebook. <br />On GitHub, the HTML representation is unable to render, please try loading this page with nbviewer.org.</b></div><div class=\"sk-container\" hidden><div class=\"sk-item\"><div class=\"sk-estimator sk-toggleable\"><input class=\"sk-toggleable__control sk-hidden--visually\" id=\"sk-estimator-id-3\" type=\"checkbox\" checked><label for=\"sk-estimator-id-3\" class=\"sk-toggleable__label sk-toggleable__label-arrow\">RandomForestRegressor</label><div class=\"sk-toggleable__content\"><pre>RandomForestRegressor()</pre></div></div></div></div></div>"
      ],
      "text/plain": [
       "RandomForestRegressor()"
      ]
     },
     "execution_count": 84,
     "metadata": {},
     "output_type": "execute_result"
    }
   ],
   "source": [
    "from sklearn.ensemble import RandomForestRegressor\n",
    "model_n = RandomForestRegressor()\n",
    "model_n.fit(X_train, y_n_train)\n",
    "\n",
    "\n",
    "model_p = RandomForestRegressor()\n",
    "model_p.fit(X_train, y_p_train)\n",
    "\n",
    "# Train model for potash\n",
    "model_k = RandomForestRegressor()\n",
    "model_k.fit(X_train, y_k_train)"
   ]
  },
  {
   "cell_type": "code",
   "execution_count": 85,
   "metadata": {},
   "outputs": [],
   "source": [
    "y_n_pred = model_n.predict(X_test)\n",
    "mse_n = mean_squared_error(y_n_test, y_n_pred)\n",
    "\n",
    "y_p_pred = model_p.predict(X_test)\n",
    "mse_p = mean_squared_error(y_p_test, y_p_pred)\n",
    "\n",
    "y_k_pred = model_k.predict(X_test)\n",
    "mse_k = mean_squared_error(y_k_test, y_k_pred)"
   ]
  },
  {
   "cell_type": "code",
   "execution_count": 86,
   "metadata": {},
   "outputs": [
    {
     "name": "stdout",
     "output_type": "stream",
     "text": [
      "MSE for Nitrogen: 127947879.98158437\n",
      "MSE for Phosphorus: 21645822.40967693\n",
      "MSE for Potash: 120823.81178492344\n"
     ]
    }
   ],
   "source": [
    "print(f'MSE for Nitrogen: {mse_n}')\n",
    "print(f'MSE for Phosphorus: {mse_p}')\n",
    "print(f'MSE for Potash: {mse_k}')"
   ]
  },
  {
   "cell_type": "code",
   "execution_count": 88,
   "metadata": {},
   "outputs": [],
   "source": [
    "from sklearn.metrics import r2_score"
   ]
  },
  {
   "cell_type": "code",
   "execution_count": 89,
   "metadata": {},
   "outputs": [
    {
     "name": "stdout",
     "output_type": "stream",
     "text": [
      "R2 score for Nitrogen: 0.04621290198127881\n",
      "R2 score for Phosphorus: 0.001979624913520217\n",
      "R2 score for Potash: -0.008140606616721113\n"
     ]
    }
   ],
   "source": [
    "r2_n = r2_score(y_n_test, y_n_pred)\n",
    "\n",
    "# Calculate R2 score for phosphorus model\n",
    "r2_p = r2_score(y_p_test, y_p_pred)\n",
    "\n",
    "# Calculate R2 score for potash model\n",
    "r2_k = r2_score(y_k_test, y_k_pred)\n",
    "\n",
    "print(f'R2 score for Nitrogen: {r2_n}')\n",
    "print(f'R2 score for Phosphorus: {r2_p}')\n",
    "print(f'R2 score for Potash: {r2_k}')"
   ]
  },
  {
   "cell_type": "code",
   "execution_count": null,
   "metadata": {},
   "outputs": [],
   "source": []
  }
 ],
 "metadata": {
  "kernelspec": {
   "display_name": "Python 3",
   "language": "python",
   "name": "python3"
  },
  "language_info": {
   "codemirror_mode": {
    "name": "ipython",
    "version": 3
   },
   "file_extension": ".py",
   "mimetype": "text/x-python",
   "name": "python",
   "nbconvert_exporter": "python",
   "pygments_lexer": "ipython3",
   "version": "3.10.8"
  }
 },
 "nbformat": 4,
 "nbformat_minor": 2
}
